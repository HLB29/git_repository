{
 "cells": [
  {
   "cell_type": "markdown",
   "id": "127d190a",
   "metadata": {},
   "source": [
    "## Python包的导入 "
   ]
  },
  {
   "cell_type": "code",
   "execution_count": 7,
   "id": "897e4ed6",
   "metadata": {},
   "outputs": [
    {
     "name": "stdout",
     "output_type": "stream",
     "text": [
      "Overwriting he.py\n"
     ]
    }
   ],
   "source": [
    "%%writefile he.py\n",
    "\n",
    "he_v=10\n",
    "\n",
    "def he_add(he_list):\n",
    "    he_sum=0\n",
    "    for i in range(len(he_list)):\n",
    "        he_sum += he_list[i]\n",
    "    return he_sum\n",
    "he_list=[1,2,3,4,5]\n",
    "print(he_add(he_list))"
   ]
  },
  {
   "cell_type": "code",
   "execution_count": 8,
   "id": "7e38c02b",
   "metadata": {},
   "outputs": [
    {
     "name": "stdout",
     "output_type": "stream",
     "text": [
      "15\n"
     ]
    }
   ],
   "source": [
    "%run he.py"
   ]
  },
  {
   "cell_type": "code",
   "execution_count": 9,
   "id": "24159fdb",
   "metadata": {},
   "outputs": [
    {
     "name": "stdout",
     "output_type": "stream",
     "text": [
      "15\n"
     ]
    }
   ],
   "source": [
    "import he"
   ]
  },
  {
   "cell_type": "code",
   "execution_count": 10,
   "id": "d1f0719b",
   "metadata": {},
   "outputs": [
    {
     "data": {
      "text/plain": [
       "<module 'he' from 'D:\\\\Jupyter_Notebook_workspace\\\\he.py'>"
      ]
     },
     "execution_count": 10,
     "metadata": {},
     "output_type": "execute_result"
    }
   ],
   "source": [
    "he"
   ]
  },
  {
   "cell_type": "code",
   "execution_count": 11,
   "id": "e8c00b46",
   "metadata": {},
   "outputs": [
    {
     "name": "stdout",
     "output_type": "stream",
     "text": [
      "10\n"
     ]
    }
   ],
   "source": [
    "print(he_v)"
   ]
  },
  {
   "cell_type": "code",
   "execution_count": 13,
   "id": "93d183dd",
   "metadata": {},
   "outputs": [],
   "source": [
    "from he import he_v,he_add\n"
   ]
  },
  {
   "cell_type": "code",
   "execution_count": 14,
   "id": "fd01a107",
   "metadata": {},
   "outputs": [
    {
     "data": {
      "text/plain": [
       "10"
      ]
     },
     "execution_count": 14,
     "metadata": {},
     "output_type": "execute_result"
    }
   ],
   "source": [
    "he_v"
   ]
  },
  {
   "cell_type": "code",
   "execution_count": 15,
   "id": "bb439878",
   "metadata": {},
   "outputs": [
    {
     "data": {
      "text/plain": [
       "15"
      ]
     },
     "execution_count": 15,
     "metadata": {},
     "output_type": "execute_result"
    }
   ],
   "source": [
    "he_add(he_list)"
   ]
  },
  {
   "cell_type": "code",
   "execution_count": 16,
   "id": "23cd67ef",
   "metadata": {},
   "outputs": [],
   "source": [
    "import os\n",
    "os.remove('he.py')"
   ]
  },
  {
   "cell_type": "markdown",
   "id": "41224fbc",
   "metadata": {},
   "source": [
    "## 异常处理"
   ]
  },
  {
   "cell_type": "code",
   "execution_count": 26,
   "id": "8b77bd45",
   "metadata": {
    "scrolled": true
   },
   "outputs": [
    {
     "name": "stdout",
     "output_type": "stream",
     "text": [
      "write a num:-3\n"
     ]
    },
    {
     "ename": "ValueError",
     "evalue": "math domain error",
     "output_type": "error",
     "traceback": [
      "\u001b[1;31m---------------------------------------------------------------------------\u001b[0m",
      "\u001b[1;31mValueError\u001b[0m                                Traceback (most recent call last)",
      "\u001b[1;32m<ipython-input-26-ca3e60dcd798>\u001b[0m in \u001b[0;36m<module>\u001b[1;34m\u001b[0m\n\u001b[0;32m      5\u001b[0m     \u001b[1;32mif\u001b[0m \u001b[0minput_num\u001b[0m\u001b[1;33m==\u001b[0m\u001b[1;34m'q'\u001b[0m\u001b[1;33m:\u001b[0m\u001b[1;33m\u001b[0m\u001b[1;33m\u001b[0m\u001b[0m\n\u001b[0;32m      6\u001b[0m         \u001b[1;32mbreak\u001b[0m\u001b[1;33m\u001b[0m\u001b[1;33m\u001b[0m\u001b[0m\n\u001b[1;32m----> 7\u001b[1;33m     \u001b[0mresult\u001b[0m\u001b[1;33m=\u001b[0m\u001b[0mmath\u001b[0m\u001b[1;33m.\u001b[0m\u001b[0mlog\u001b[0m\u001b[1;33m(\u001b[0m\u001b[0mfloat\u001b[0m\u001b[1;33m(\u001b[0m\u001b[0minput_num\u001b[0m\u001b[1;33m)\u001b[0m\u001b[1;33m)\u001b[0m\u001b[1;33m\u001b[0m\u001b[1;33m\u001b[0m\u001b[0m\n\u001b[0m\u001b[0;32m      8\u001b[0m     \u001b[0mprint\u001b[0m\u001b[1;33m(\u001b[0m\u001b[0mresult\u001b[0m\u001b[1;33m)\u001b[0m\u001b[1;33m\u001b[0m\u001b[1;33m\u001b[0m\u001b[0m\n",
      "\u001b[1;31mValueError\u001b[0m: math domain error"
     ]
    }
   ],
   "source": [
    "import math\n",
    "\n",
    "for i in range(10):\n",
    "    input_num=input(\"write a num:\")\n",
    "    if input_num=='q':\n",
    "        break\n",
    "    result=math.log(float(input_num))\n",
    "    print(result)"
   ]
  },
  {
   "cell_type": "code",
   "execution_count": 27,
   "id": "8a718a50",
   "metadata": {},
   "outputs": [
    {
     "name": "stdout",
     "output_type": "stream",
     "text": [
      "write a num:-3\n",
      "ValueError：input must >0\n"
     ]
    }
   ],
   "source": [
    "import math\n",
    "try:\n",
    "    for i in range(10):\n",
    "        input_num=input(\"write a num:\")\n",
    "        if input_num=='q':\n",
    "            break\n",
    "        result=math.log(float(input_num))\n",
    "        print(result)\n",
    "except ValueError:\n",
    "    print(\"ValueError：input must >0\")"
   ]
  },
  {
   "cell_type": "code",
   "execution_count": 3,
   "id": "07c651ca",
   "metadata": {},
   "outputs": [
    {
     "name": "stdout",
     "output_type": "stream",
     "text": [
      "write a num:3\n",
      "0.9102392266268373\n",
      "write a num:4\n",
      "0.7213475204444817\n",
      "write a num:5\n",
      "0.6213349345596119\n",
      "write a num:1\n",
      "ZeroDivisionError:input != 1\n"
     ]
    }
   ],
   "source": [
    "import math\n",
    "try:\n",
    "    for i in range(10):\n",
    "        input_num=input(\"write a num:\")\n",
    "        if input_num=='q':\n",
    "            break\n",
    "        result=1/math.log(float(input_num))\n",
    "        print(result)\n",
    "except ValueError:\n",
    "    print(\"ValueError:input must >0\")\n",
    "except ZeroDivisionError:\n",
    "    print(\"ZeroDivisionError:input != 1\")\n",
    "except Exception:\n",
    "    print(\"Do not know Error\")"
   ]
  },
  {
   "cell_type": "markdown",
   "id": "6c053739",
   "metadata": {},
   "source": [
    "### 自定义异常 "
   ]
  },
  {
   "cell_type": "code",
   "execution_count": 4,
   "id": "ce789350",
   "metadata": {},
   "outputs": [
    {
     "name": "stdout",
     "output_type": "stream",
     "text": [
      "456\n"
     ]
    },
    {
     "ename": "HeError",
     "evalue": "Invalid input:456",
     "output_type": "error",
     "traceback": [
      "\u001b[1;31m---------------------------------------------------------------------------\u001b[0m",
      "\u001b[1;31mHeError\u001b[0m                                   Traceback (most recent call last)",
      "\u001b[1;32m<ipython-input-4-717e1dd5b4bd>\u001b[0m in \u001b[0;36m<module>\u001b[1;34m\u001b[0m\n\u001b[0;32m      5\u001b[0m     \u001b[0mcur_input\u001b[0m\u001b[1;33m=\u001b[0m\u001b[0minput\u001b[0m\u001b[1;33m(\u001b[0m\u001b[1;33m)\u001b[0m\u001b[1;33m\u001b[0m\u001b[1;33m\u001b[0m\u001b[0m\n\u001b[0;32m      6\u001b[0m     \u001b[1;32mif\u001b[0m \u001b[0mcur_input\u001b[0m \u001b[1;32mnot\u001b[0m \u001b[1;32min\u001b[0m \u001b[0mcur_list\u001b[0m\u001b[1;33m:\u001b[0m\u001b[1;33m\u001b[0m\u001b[1;33m\u001b[0m\u001b[0m\n\u001b[1;32m----> 7\u001b[1;33m         \u001b[1;32mraise\u001b[0m \u001b[0mHeError\u001b[0m\u001b[1;33m(\u001b[0m\u001b[1;34m\"Invalid input:%s\"\u001b[0m \u001b[1;33m%\u001b[0m\u001b[0mcur_input\u001b[0m\u001b[1;33m)\u001b[0m\u001b[1;33m\u001b[0m\u001b[1;33m\u001b[0m\u001b[0m\n\u001b[0m",
      "\u001b[1;31mHeError\u001b[0m: Invalid input:456"
     ]
    }
   ],
   "source": [
    "class HeError(ValueError):\n",
    "    pass\n",
    "cur_list=['he','ling','bo']\n",
    "while True:\n",
    "    cur_input=input()\n",
    "    if cur_input not in cur_list:\n",
    "        raise HeError(\"Invalid input:%s\" %cur_input)"
   ]
  },
  {
   "cell_type": "markdown",
   "id": "9d287192",
   "metadata": {},
   "source": [
    "## 文件操作"
   ]
  },
  {
   "cell_type": "code",
   "execution_count": 11,
   "id": "1fa7785f",
   "metadata": {},
   "outputs": [
    {
     "name": "stdout",
     "output_type": "stream",
     "text": [
      "Overwriting he.txt\n"
     ]
    }
   ],
   "source": [
    "%%writefile he.txt\n",
    "ashjahsjkahskahskhaksj\n",
    "weerrtytry"
   ]
  },
  {
   "cell_type": "code",
   "execution_count": 12,
   "id": "ef8064ee",
   "metadata": {},
   "outputs": [],
   "source": [
    "txt=open('./he.txt')"
   ]
  },
  {
   "cell_type": "code",
   "execution_count": 7,
   "id": "8b70bc53",
   "metadata": {},
   "outputs": [
    {
     "name": "stdout",
     "output_type": "stream",
     "text": [
      "ashjahsjkahskahskhaksj\n",
      "weerrtytry\n",
      "\n"
     ]
    }
   ],
   "source": [
    "txt_read=txt.read()\n",
    "print(txt_read)"
   ]
  },
  {
   "cell_type": "code",
   "execution_count": 13,
   "id": "d7a1ca33",
   "metadata": {},
   "outputs": [
    {
     "name": "stdout",
     "output_type": "stream",
     "text": [
      "['ashjahsjkahskahskhaksj\\n', 'weerrtytry\\n']\n"
     ]
    }
   ],
   "source": [
    "lines=txt.readlines() \n",
    "print(lines)"
   ]
  },
  {
   "cell_type": "code",
   "execution_count": 15,
   "id": "6b8c4a8d",
   "metadata": {},
   "outputs": [
    {
     "name": "stdout",
     "output_type": "stream",
     "text": [
      "ashjahsjkahskahskhaksj\n",
      "\n",
      "\n",
      "\n",
      "weerrtytry\n",
      "\n",
      "\n",
      "\n"
     ]
    }
   ],
   "source": [
    "for line in lines:\n",
    "    print(line)\n",
    "    print(\"\\n\")"
   ]
  },
  {
   "cell_type": "code",
   "execution_count": 19,
   "id": "2d87d429",
   "metadata": {},
   "outputs": [],
   "source": [
    "txt=open('helingbo.txt','w')\n",
    "txt.write(\"520\")\n",
    "txt.write(\"\\n\")\n",
    "txt.write(\"Python\")\n",
    "txt.close()"
   ]
  },
  {
   "cell_type": "code",
   "execution_count": 21,
   "id": "74b24fd6",
   "metadata": {},
   "outputs": [
    {
     "name": "stdout",
     "output_type": "stream",
     "text": [
      "520\n",
      "Python\n"
     ]
    }
   ],
   "source": [
    "txt=open('helingbo.txt','r')\n",
    "print(txt.read())"
   ]
  },
  {
   "cell_type": "code",
   "execution_count": 22,
   "id": "534d6e91",
   "metadata": {},
   "outputs": [
    {
     "name": "stdout",
     "output_type": "stream",
     "text": [
      "520\n",
      "Python1314\n"
     ]
    }
   ],
   "source": [
    "txt=open('helingbo.txt','a')\n",
    "txt.write(\"1314\")\n",
    "txt.close()\n",
    "txt=open('helingbo.txt','r')\n",
    "print(txt.read())"
   ]
  },
  {
   "cell_type": "code",
   "execution_count": 24,
   "id": "9598260e",
   "metadata": {},
   "outputs": [
    {
     "name": "stdout",
     "output_type": "stream",
     "text": [
      "520\n",
      "Python1314\n"
     ]
    }
   ],
   "source": [
    "with open('helingbo.txt','r') as f:\n",
    "    print(f.read())"
   ]
  },
  {
   "cell_type": "markdown",
   "id": "19b9678d",
   "metadata": {},
   "source": [
    "## 类：面向对象 "
   ]
  },
  {
   "cell_type": "code",
   "execution_count": 30,
   "id": "9af74047",
   "metadata": {},
   "outputs": [],
   "source": [
    "class people:\n",
    "    '帮助信息：XXXXXX'\n",
    "    number=100\n",
    "    def __init__(self,name,age):\n",
    "        self.name=name\n",
    "        self.age=age\n",
    "    def display(self):\n",
    "        print('number:',people.number)\n",
    "    def display_name(self):\n",
    "        print(self.name)"
   ]
  },
  {
   "cell_type": "code",
   "execution_count": 32,
   "id": "c058bec0",
   "metadata": {},
   "outputs": [
    {
     "data": {
      "text/plain": [
       "'帮助信息：XXXXXX'"
      ]
     },
     "execution_count": 32,
     "metadata": {},
     "output_type": "execute_result"
    }
   ],
   "source": [
    "people.__doc__"
   ]
  },
  {
   "cell_type": "code",
   "execution_count": 33,
   "id": "8401bba5",
   "metadata": {},
   "outputs": [],
   "source": [
    "p1=people(\"helingbo\",\"25\")"
   ]
  },
  {
   "cell_type": "code",
   "execution_count": 34,
   "id": "45311c82",
   "metadata": {},
   "outputs": [],
   "source": [
    "p2=people(\"python\",\"40\")"
   ]
  },
  {
   "cell_type": "code",
   "execution_count": 36,
   "id": "aaf1cc6d",
   "metadata": {},
   "outputs": [
    {
     "name": "stdout",
     "output_type": "stream",
     "text": [
      "number: 100\n"
     ]
    }
   ],
   "source": [
    "p1.display()"
   ]
  },
  {
   "cell_type": "code",
   "execution_count": 38,
   "id": "ee333f66",
   "metadata": {},
   "outputs": [
    {
     "name": "stdout",
     "output_type": "stream",
     "text": [
      "helingbo\n"
     ]
    }
   ],
   "source": [
    "p1.display_name()"
   ]
  },
  {
   "cell_type": "code",
   "execution_count": 39,
   "id": "c1496bdf",
   "metadata": {},
   "outputs": [
    {
     "data": {
      "text/plain": [
       "True"
      ]
     },
     "execution_count": 39,
     "metadata": {},
     "output_type": "execute_result"
    }
   ],
   "source": [
    "hasattr(p1,'name')"
   ]
  },
  {
   "cell_type": "code",
   "execution_count": 40,
   "id": "8061460e",
   "metadata": {},
   "outputs": [
    {
     "data": {
      "text/plain": [
       "'helingbo'"
      ]
     },
     "execution_count": 40,
     "metadata": {},
     "output_type": "execute_result"
    }
   ],
   "source": [
    "getattr(p1,\"name\")"
   ]
  },
  {
   "cell_type": "code",
   "execution_count": 42,
   "id": "80fd677e",
   "metadata": {},
   "outputs": [],
   "source": [
    "setattr(p1,\"name\",\"he\")"
   ]
  },
  {
   "cell_type": "code",
   "execution_count": 43,
   "id": "932f5b39",
   "metadata": {},
   "outputs": [
    {
     "data": {
      "text/plain": [
       "'he'"
      ]
     },
     "execution_count": 43,
     "metadata": {},
     "output_type": "execute_result"
    }
   ],
   "source": [
    "getattr(p1,\"name\")"
   ]
  },
  {
   "cell_type": "code",
   "execution_count": 45,
   "id": "fa0f073a",
   "metadata": {},
   "outputs": [
    {
     "ename": "AttributeError",
     "evalue": "name",
     "output_type": "error",
     "traceback": [
      "\u001b[1;31m---------------------------------------------------------------------------\u001b[0m",
      "\u001b[1;31mAttributeError\u001b[0m                            Traceback (most recent call last)",
      "\u001b[1;32m<ipython-input-45-64cde1e910de>\u001b[0m in \u001b[0;36m<module>\u001b[1;34m\u001b[0m\n\u001b[1;32m----> 1\u001b[1;33m \u001b[0mdelattr\u001b[0m\u001b[1;33m(\u001b[0m\u001b[0mp1\u001b[0m\u001b[1;33m,\u001b[0m\u001b[1;34m\"name\"\u001b[0m\u001b[1;33m)\u001b[0m\u001b[1;33m\u001b[0m\u001b[1;33m\u001b[0m\u001b[0m\n\u001b[0m\u001b[0;32m      2\u001b[0m \u001b[0mgetattr\u001b[0m\u001b[1;33m(\u001b[0m\u001b[0mp1\u001b[0m\u001b[1;33m,\u001b[0m\u001b[1;34m\"name\"\u001b[0m\u001b[1;33m)\u001b[0m\u001b[1;33m\u001b[0m\u001b[1;33m\u001b[0m\u001b[0m\n",
      "\u001b[1;31mAttributeError\u001b[0m: name"
     ]
    }
   ],
   "source": [
    "delattr(p1,\"name\")\n",
    "getattr(p1,\"name\")"
   ]
  },
  {
   "cell_type": "markdown",
   "id": "795b5264",
   "metadata": {},
   "source": [
    "### 类的继承"
   ]
  },
  {
   "cell_type": "code",
   "execution_count": 59,
   "id": "09a6e941",
   "metadata": {},
   "outputs": [],
   "source": [
    "class Parent:\n",
    "    def __init__(self):\n",
    "        print(\"父类的初始化操作\")\n",
    "    def parentM(self):\n",
    "        print(\"调用父类的方法\")\n",
    "    def setAttr(self,attr):\n",
    "        Parent.parentAttr=attr\n",
    "    def getAttr(self):\n",
    "        print(\"父类属性：\",Parent.parentAttr)\n",
    "    def newM(self):\n",
    "        print(\"父类的新模式\")\n",
    "class Child(Parent):\n",
    "    def __init__(self):\n",
    "        print(\"子类的初始化操作\")\n",
    "    def childM(self):\n",
    "        print(\"调用子类的方法\")\n",
    "    def newM(self):\n",
    "        print(\"子类更改了模式\")"
   ]
  },
  {
   "cell_type": "code",
   "execution_count": 61,
   "id": "4e5beb8e",
   "metadata": {},
   "outputs": [
    {
     "name": "stdout",
     "output_type": "stream",
     "text": [
      "子类的初始化操作\n",
      "调用子类的方法\n",
      "调用父类的方法\n",
      "父类属性： 100\n",
      "子类更改了模式\n"
     ]
    }
   ],
   "source": [
    "c=Child()\n",
    "c.childM()\n",
    "c.parentM()\n",
    "c.setAttr(100)\n",
    "c.getAttr()\n",
    "c.newM()"
   ]
  },
  {
   "cell_type": "markdown",
   "id": "8136ebe3",
   "metadata": {},
   "source": [
    "## 时间 "
   ]
  },
  {
   "cell_type": "code",
   "execution_count": 73,
   "id": "1fc0d97b",
   "metadata": {},
   "outputs": [],
   "source": [
    "import time"
   ]
  },
  {
   "cell_type": "code",
   "execution_count": 63,
   "id": "4c091e9a",
   "metadata": {},
   "outputs": [
    {
     "name": "stdout",
     "output_type": "stream",
     "text": [
      "1628781655.190367\n"
     ]
    }
   ],
   "source": [
    "print(time.time())"
   ]
  },
  {
   "cell_type": "code",
   "execution_count": 64,
   "id": "00401a39",
   "metadata": {},
   "outputs": [
    {
     "name": "stdout",
     "output_type": "stream",
     "text": [
      "time.struct_time(tm_year=2021, tm_mon=8, tm_mday=12, tm_hour=23, tm_min=21, tm_sec=28, tm_wday=3, tm_yday=224, tm_isdst=0)\n"
     ]
    }
   ],
   "source": [
    "print(time.localtime(time.time()))"
   ]
  },
  {
   "cell_type": "code",
   "execution_count": 67,
   "id": "78967f5c",
   "metadata": {},
   "outputs": [
    {
     "name": "stdout",
     "output_type": "stream",
     "text": [
      "Thu Aug 12 23:31:10 2021\n"
     ]
    }
   ],
   "source": [
    "print(time.asctime(time.localtime(time.time())))"
   ]
  },
  {
   "cell_type": "code",
   "execution_count": 77,
   "id": "bd93c5ef",
   "metadata": {},
   "outputs": [
    {
     "name": "stdout",
     "output_type": "stream",
     "text": [
      "21-08-12 23:41:05\n"
     ]
    }
   ],
   "source": [
    "print(time.strftime('%y-%m-%d %H:%M:%S',time.localtime()))"
   ]
  },
  {
   "cell_type": "code",
   "execution_count": 81,
   "id": "06c8a2d3",
   "metadata": {},
   "outputs": [
    {
     "name": "stdout",
     "output_type": "stream",
     "text": [
      "    August 2021\n",
      "Mo Tu We Th Fr Sa Su\n",
      "                   1\n",
      " 2  3  4  5  6  7  8\n",
      " 9 10 11 12 13 14 15\n",
      "16 17 18 19 20 21 22\n",
      "23 24 25 26 27 28 29\n",
      "30 31\n",
      "\n"
     ]
    }
   ],
   "source": [
    "import calendar\n",
    "print(calendar.month(2021,8))"
   ]
  },
  {
   "cell_type": "code",
   "execution_count": 82,
   "id": "66321304",
   "metadata": {},
   "outputs": [
    {
     "name": "stdout",
     "output_type": "stream",
     "text": [
      "Help on method formatmonth in module calendar:\n",
      "\n",
      "formatmonth(theyear, themonth, w=0, l=0) method of calendar.TextCalendar instance\n",
      "    Return a month's calendar string (multi-line).\n",
      "\n",
      "None\n"
     ]
    }
   ],
   "source": [
    "print(help(calendar.month))"
   ]
  }
 ],
 "metadata": {
  "kernelspec": {
   "display_name": "Python 3",
   "language": "python",
   "name": "python3"
  },
  "language_info": {
   "codemirror_mode": {
    "name": "ipython",
    "version": 3
   },
   "file_extension": ".py",
   "mimetype": "text/x-python",
   "name": "python",
   "nbconvert_exporter": "python",
   "pygments_lexer": "ipython3",
   "version": "3.8.8"
  }
 },
 "nbformat": 4,
 "nbformat_minor": 5
}
