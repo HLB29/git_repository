{
 "cells": [
  {
   "cell_type": "markdown",
   "id": "82344722",
   "metadata": {},
   "source": [
    "## 初识Python"
   ]
  },
  {
   "cell_type": "code",
   "execution_count": 1,
   "id": "53c2f27a",
   "metadata": {
    "scrolled": true
   },
   "outputs": [
    {
     "name": "stdout",
     "output_type": "stream",
     "text": [
      "Hello Python\n"
     ]
    }
   ],
   "source": [
    "print(\"Hello Python\")"
   ]
  },
  {
   "cell_type": "markdown",
   "id": "821b5924",
   "metadata": {},
   "source": [
    "## Python之歌"
   ]
  },
  {
   "cell_type": "code",
   "execution_count": 2,
   "id": "385e5487",
   "metadata": {
    "scrolled": true
   },
   "outputs": [
    {
     "name": "stdout",
     "output_type": "stream",
     "text": [
      "The Zen of Python, by Tim Peters\n",
      "\n",
      "Beautiful is better than ugly.\n",
      "Explicit is better than implicit.\n",
      "Simple is better than complex.\n",
      "Complex is better than complicated.\n",
      "Flat is better than nested.\n",
      "Sparse is better than dense.\n",
      "Readability counts.\n",
      "Special cases aren't special enough to break the rules.\n",
      "Although practicality beats purity.\n",
      "Errors should never pass silently.\n",
      "Unless explicitly silenced.\n",
      "In the face of ambiguity, refuse the temptation to guess.\n",
      "There should be one-- and preferably only one --obvious way to do it.\n",
      "Although that way may not be obvious at first unless you're Dutch.\n",
      "Now is better than never.\n",
      "Although never is often better than *right* now.\n",
      "If the implementation is hard to explain, it's a bad idea.\n",
      "If the implementation is easy to explain, it may be a good idea.\n",
      "Namespaces are one honking great idea -- let's do more of those!\n"
     ]
    }
   ],
   "source": [
    "import this"
   ]
  },
  {
   "cell_type": "markdown",
   "id": "c5114d80",
   "metadata": {},
   "source": [
    "## Python数值运算"
   ]
  },
  {
   "cell_type": "code",
   "execution_count": 4,
   "id": "6bdfda57",
   "metadata": {},
   "outputs": [
    {
     "name": "stdout",
     "output_type": "stream",
     "text": [
      "4\n"
     ]
    },
    {
     "data": {
      "text/plain": [
       "2"
      ]
     },
     "execution_count": 4,
     "metadata": {},
     "output_type": "execute_result"
    }
   ],
   "source": [
    "print(2+2)\n",
    "1+1"
   ]
  },
  {
   "cell_type": "code",
   "execution_count": 5,
   "id": "481bc801",
   "metadata": {},
   "outputs": [
    {
     "data": {
      "text/plain": [
       "20"
      ]
     },
     "execution_count": 5,
     "metadata": {},
     "output_type": "execute_result"
    }
   ],
   "source": [
    "4*5"
   ]
  },
  {
   "cell_type": "markdown",
   "id": "ae17c2ac",
   "metadata": {},
   "source": [
    "## 取余运算"
   ]
  },
  {
   "cell_type": "code",
   "execution_count": 7,
   "id": "5dceeba4",
   "metadata": {},
   "outputs": [
    {
     "data": {
      "text/plain": [
       "1"
      ]
     },
     "execution_count": 7,
     "metadata": {},
     "output_type": "execute_result"
    }
   ],
   "source": [
    "10%3"
   ]
  },
  {
   "cell_type": "code",
   "execution_count": 9,
   "id": "a5ab1d60",
   "metadata": {},
   "outputs": [
    {
     "data": {
      "text/plain": [
       "8"
      ]
     },
     "execution_count": 9,
     "metadata": {},
     "output_type": "execute_result"
    }
   ],
   "source": [
    "2**3"
   ]
  },
  {
   "cell_type": "code",
   "execution_count": 10,
   "id": "2e28b77e",
   "metadata": {},
   "outputs": [],
   "source": [
    "tang=3"
   ]
  },
  {
   "cell_type": "code",
   "execution_count": 12,
   "id": "e2fc9b3c",
   "metadata": {},
   "outputs": [
    {
     "name": "stdout",
     "output_type": "stream",
     "text": [
      "3\n"
     ]
    }
   ],
   "source": [
    "print(tang)"
   ]
  },
  {
   "cell_type": "markdown",
   "id": "9c62d927",
   "metadata": {},
   "source": [
    "## type()打印类型\n",
    "int\n",
    "\n",
    "float\n",
    "\n",
    "str\n",
    "\n",
    "bool"
   ]
  },
  {
   "cell_type": "code",
   "execution_count": 13,
   "id": "813bd8ca",
   "metadata": {},
   "outputs": [
    {
     "data": {
      "text/plain": [
       "int"
      ]
     },
     "execution_count": 13,
     "metadata": {},
     "output_type": "execute_result"
    }
   ],
   "source": [
    "type(tang)"
   ]
  },
  {
   "cell_type": "code",
   "execution_count": 19,
   "id": "de79530e",
   "metadata": {},
   "outputs": [],
   "source": [
    "tang=1.5"
   ]
  },
  {
   "cell_type": "code",
   "execution_count": 20,
   "id": "3af19053",
   "metadata": {},
   "outputs": [
    {
     "data": {
      "text/plain": [
       "float"
      ]
     },
     "execution_count": 20,
     "metadata": {},
     "output_type": "execute_result"
    }
   ],
   "source": [
    "type(tang)"
   ]
  },
  {
   "cell_type": "code",
   "execution_count": 23,
   "id": "04386da5",
   "metadata": {},
   "outputs": [
    {
     "data": {
      "text/plain": [
       "False"
      ]
     },
     "execution_count": 23,
     "metadata": {},
     "output_type": "execute_result"
    }
   ],
   "source": [
    "3>5"
   ]
  },
  {
   "cell_type": "markdown",
   "id": "04e84383",
   "metadata": {},
   "source": [
    "## 类型转换"
   ]
  },
  {
   "cell_type": "code",
   "execution_count": 2,
   "id": "c1af19bf",
   "metadata": {},
   "outputs": [],
   "source": [
    "tang2=1.5"
   ]
  },
  {
   "cell_type": "code",
   "execution_count": 22,
   "id": "6bf9ef9a",
   "metadata": {},
   "outputs": [
    {
     "data": {
      "text/plain": [
       "float"
      ]
     },
     "execution_count": 22,
     "metadata": {},
     "output_type": "execute_result"
    }
   ],
   "source": [
    "type(tang2)"
   ]
  },
  {
   "cell_type": "code",
   "execution_count": 3,
   "id": "e7c1d918",
   "metadata": {},
   "outputs": [
    {
     "data": {
      "text/plain": [
       "1"
      ]
     },
     "execution_count": 3,
     "metadata": {},
     "output_type": "execute_result"
    }
   ],
   "source": [
    " int(tang2)"
   ]
  },
  {
   "cell_type": "code",
   "execution_count": 4,
   "id": "6123885d",
   "metadata": {},
   "outputs": [
    {
     "data": {
      "text/plain": [
       "int"
      ]
     },
     "execution_count": 4,
     "metadata": {},
     "output_type": "execute_result"
    }
   ],
   "source": [
    "type(int(tang2))"
   ]
  },
  {
   "cell_type": "code",
   "execution_count": 11,
   "id": "372a4afb",
   "metadata": {},
   "outputs": [],
   "source": [
    "tang_str=\"123\""
   ]
  },
  {
   "cell_type": "code",
   "execution_count": 12,
   "id": "34324746",
   "metadata": {},
   "outputs": [
    {
     "data": {
      "text/plain": [
       "str"
      ]
     },
     "execution_count": 12,
     "metadata": {},
     "output_type": "execute_result"
    }
   ],
   "source": [
    "type(tang_str)"
   ]
  },
  {
   "cell_type": "code",
   "execution_count": 13,
   "id": "8048ad36",
   "metadata": {},
   "outputs": [
    {
     "data": {
      "text/plain": [
       "123"
      ]
     },
     "execution_count": 13,
     "metadata": {},
     "output_type": "execute_result"
    }
   ],
   "source": [
    "int(tang_str)"
   ]
  },
  {
   "cell_type": "code",
   "execution_count": 14,
   "id": "89268c1b",
   "metadata": {},
   "outputs": [],
   "source": [
    "tang3=\"hlb\""
   ]
  },
  {
   "cell_type": "code",
   "execution_count": 15,
   "id": "77bc7e8d",
   "metadata": {},
   "outputs": [
    {
     "ename": "ValueError",
     "evalue": "invalid literal for int() with base 10: 'hlb'",
     "output_type": "error",
     "traceback": [
      "\u001b[1;31m---------------------------------------------------------------------------\u001b[0m",
      "\u001b[1;31mValueError\u001b[0m                                Traceback (most recent call last)",
      "\u001b[1;32m<ipython-input-15-c742279cbffa>\u001b[0m in \u001b[0;36m<module>\u001b[1;34m\u001b[0m\n\u001b[1;32m----> 1\u001b[1;33m \u001b[0mint\u001b[0m\u001b[1;33m(\u001b[0m\u001b[0mtang3\u001b[0m\u001b[1;33m)\u001b[0m\u001b[1;33m\u001b[0m\u001b[1;33m\u001b[0m\u001b[0m\n\u001b[0m",
      "\u001b[1;31mValueError\u001b[0m: invalid literal for int() with base 10: 'hlb'"
     ]
    }
   ],
   "source": [
    "int(tang3)"
   ]
  },
  {
   "cell_type": "markdown",
   "id": "fcd9f20f",
   "metadata": {},
   "source": [
    "## 计算的先后顺序"
   ]
  },
  {
   "cell_type": "markdown",
   "id": "d0bad50d",
   "metadata": {},
   "source": [
    "（）\n",
    "\n",
    "**\n",
    "\n",
    "*/\n",
    "\n",
    "+-"
   ]
  },
  {
   "cell_type": "markdown",
   "id": "d66ad69b",
   "metadata": {},
   "source": [
    "## 运算操作"
   ]
  },
  {
   "cell_type": "code",
   "execution_count": 24,
   "id": "2b20b504",
   "metadata": {},
   "outputs": [
    {
     "data": {
      "text/plain": [
       "1.4"
      ]
     },
     "execution_count": 24,
     "metadata": {},
     "output_type": "execute_result"
    }
   ],
   "source": [
    "1.4"
   ]
  },
  {
   "cell_type": "markdown",
   "id": "4eeba395",
   "metadata": {},
   "source": [
    "### 取绝对值 "
   ]
  },
  {
   "cell_type": "code",
   "execution_count": 25,
   "id": "0814dda8",
   "metadata": {},
   "outputs": [
    {
     "data": {
      "text/plain": [
       "1.4"
      ]
     },
     "execution_count": 25,
     "metadata": {},
     "output_type": "execute_result"
    }
   ],
   "source": [
    "abs(1.4)"
   ]
  },
  {
   "cell_type": "markdown",
   "id": "41903792",
   "metadata": {},
   "source": [
    "### 求近似数（四舍五入） "
   ]
  },
  {
   "cell_type": "code",
   "execution_count": 26,
   "id": "70cf0b97",
   "metadata": {},
   "outputs": [
    {
     "data": {
      "text/plain": [
       "1"
      ]
     },
     "execution_count": 26,
     "metadata": {},
     "output_type": "execute_result"
    }
   ],
   "source": [
    "round(1.4)"
   ]
  },
  {
   "cell_type": "code",
   "execution_count": 27,
   "id": "1cae89a4",
   "metadata": {},
   "outputs": [
    {
     "data": {
      "text/plain": [
       "2"
      ]
     },
     "execution_count": 27,
     "metadata": {},
     "output_type": "execute_result"
    }
   ],
   "source": [
    "round(1.6)"
   ]
  },
  {
   "cell_type": "markdown",
   "id": "44cc58c6",
   "metadata": {},
   "source": [
    "### 取最大值与最小值"
   ]
  },
  {
   "cell_type": "code",
   "execution_count": 28,
   "id": "de434d68",
   "metadata": {},
   "outputs": [
    {
     "data": {
      "text/plain": [
       "4"
      ]
     },
     "execution_count": 28,
     "metadata": {},
     "output_type": "execute_result"
    }
   ],
   "source": [
    "max(2,3,4)"
   ]
  },
  {
   "cell_type": "code",
   "execution_count": 29,
   "id": "a302e585",
   "metadata": {},
   "outputs": [
    {
     "data": {
      "text/plain": [
       "1"
      ]
     },
     "execution_count": 29,
     "metadata": {},
     "output_type": "execute_result"
    }
   ],
   "source": [
    "min(1,2,5)"
   ]
  },
  {
   "cell_type": "markdown",
   "id": "f16611a1",
   "metadata": {},
   "source": [
    "## 字符串操作 "
   ]
  },
  {
   "cell_type": "code",
   "execution_count": 30,
   "id": "e17c1566",
   "metadata": {},
   "outputs": [],
   "source": [
    "str1=\"hello python\""
   ]
  },
  {
   "cell_type": "code",
   "execution_count": 31,
   "id": "9740809e",
   "metadata": {},
   "outputs": [
    {
     "name": "stdout",
     "output_type": "stream",
     "text": [
      "hello python\n"
     ]
    }
   ],
   "source": [
    "print(str1)"
   ]
  },
  {
   "cell_type": "code",
   "execution_count": 32,
   "id": "6d4dd4c9",
   "metadata": {},
   "outputs": [
    {
     "data": {
      "text/plain": [
       "'hello pythonhello python'"
      ]
     },
     "execution_count": 32,
     "metadata": {},
     "output_type": "execute_result"
    }
   ],
   "source": [
    "str1+str1"
   ]
  },
  {
   "cell_type": "code",
   "execution_count": 34,
   "id": "126c07f1",
   "metadata": {},
   "outputs": [
    {
     "data": {
      "text/plain": [
       "'hello pythonhello pythonhello python'"
      ]
     },
     "execution_count": 34,
     "metadata": {},
     "output_type": "execute_result"
    }
   ],
   "source": [
    "str1*3"
   ]
  },
  {
   "cell_type": "markdown",
   "id": "ca762f40",
   "metadata": {},
   "source": [
    "### 求字符的长度 "
   ]
  },
  {
   "cell_type": "code",
   "execution_count": 35,
   "id": "5f4312f6",
   "metadata": {},
   "outputs": [
    {
     "data": {
      "text/plain": [
       "12"
      ]
     },
     "execution_count": 35,
     "metadata": {},
     "output_type": "execute_result"
    }
   ],
   "source": [
    "len(str1)"
   ]
  },
  {
   "cell_type": "markdown",
   "id": "ff9fb491",
   "metadata": {},
   "source": [
    "### 将字符串中字符变成列表元素 "
   ]
  },
  {
   "cell_type": "code",
   "execution_count": 38,
   "id": "78ae5a21",
   "metadata": {},
   "outputs": [
    {
     "data": {
      "text/plain": [
       "['1', '2', '3', '4', '5']"
      ]
     },
     "execution_count": 38,
     "metadata": {},
     "output_type": "execute_result"
    }
   ],
   "source": [
    "str2='1 2 3 4 5'\n",
    "str2.split()"
   ]
  },
  {
   "cell_type": "code",
   "execution_count": 2,
   "id": "1118b773",
   "metadata": {},
   "outputs": [
    {
     "data": {
      "text/plain": [
       "['1', '2', '3', '4', '5']"
      ]
     },
     "execution_count": 2,
     "metadata": {},
     "output_type": "execute_result"
    }
   ],
   "source": [
    "str3='1,2,3,4,5'\n",
    "str3.split(',')"
   ]
  },
  {
   "cell_type": "code",
   "execution_count": 5,
   "id": "6a07a3ec",
   "metadata": {},
   "outputs": [
    {
     "data": {
      "text/plain": [
       "'1,2,3,4,5'"
      ]
     },
     "execution_count": 5,
     "metadata": {},
     "output_type": "execute_result"
    }
   ],
   "source": [
    "str_list=str3.split()\n",
    "str4=''\n",
    "str4.join(str_list)"
   ]
  },
  {
   "cell_type": "markdown",
   "id": "38330410",
   "metadata": {},
   "source": [
    "### 字符串替换函数.replace() "
   ]
  },
  {
   "cell_type": "code",
   "execution_count": 1,
   "id": "bdd78ca9",
   "metadata": {},
   "outputs": [
    {
     "data": {
      "text/plain": [
       "'Hello World'"
      ]
     },
     "execution_count": 1,
     "metadata": {},
     "output_type": "execute_result"
    }
   ],
   "source": [
    "str5=\"Hello Python\"\n",
    "str5.replace(\"Python\",\"World\")"
   ]
  },
  {
   "cell_type": "markdown",
   "id": "d3abef81",
   "metadata": {},
   "source": [
    "### 字符大小写函数.upper()/..lower()"
   ]
  },
  {
   "cell_type": "code",
   "execution_count": 2,
   "id": "5de4c239",
   "metadata": {},
   "outputs": [
    {
     "data": {
      "text/plain": [
       "'HELLO PYTHON'"
      ]
     },
     "execution_count": 2,
     "metadata": {},
     "output_type": "execute_result"
    }
   ],
   "source": [
    "str5.upper()"
   ]
  },
  {
   "cell_type": "code",
   "execution_count": 3,
   "id": "a0877024",
   "metadata": {},
   "outputs": [
    {
     "data": {
      "text/plain": [
       "'hello python'"
      ]
     },
     "execution_count": 3,
     "metadata": {},
     "output_type": "execute_result"
    }
   ],
   "source": [
    "str5.lower()"
   ]
  },
  {
   "cell_type": "markdown",
   "id": "bba88e8b",
   "metadata": {},
   "source": [
    "### 删除空格"
   ]
  },
  {
   "cell_type": "code",
   "execution_count": 4,
   "id": "cbdd01f3",
   "metadata": {},
   "outputs": [],
   "source": [
    "str6=\"   hello   \""
   ]
  },
  {
   "cell_type": "code",
   "execution_count": 5,
   "id": "1619a15e",
   "metadata": {},
   "outputs": [
    {
     "data": {
      "text/plain": [
       "'hello'"
      ]
     },
     "execution_count": 5,
     "metadata": {},
     "output_type": "execute_result"
    }
   ],
   "source": [
    "str6.strip()"
   ]
  },
  {
   "cell_type": "code",
   "execution_count": 6,
   "id": "76b3b203",
   "metadata": {},
   "outputs": [
    {
     "data": {
      "text/plain": [
       "'hello   '"
      ]
     },
     "execution_count": 6,
     "metadata": {},
     "output_type": "execute_result"
    }
   ],
   "source": [
    "str6.lstrip()"
   ]
  },
  {
   "cell_type": "code",
   "execution_count": 7,
   "id": "e71893d9",
   "metadata": {},
   "outputs": [
    {
     "data": {
      "text/plain": [
       "'   hello'"
      ]
     },
     "execution_count": 7,
     "metadata": {},
     "output_type": "execute_result"
    }
   ],
   "source": [
    "str6.rstrip()"
   ]
  },
  {
   "cell_type": "markdown",
   "id": "27af636e",
   "metadata": {},
   "source": [
    "### format函数传值"
   ]
  },
  {
   "cell_type": "code",
   "execution_count": 17,
   "id": "f241aabd",
   "metadata": {},
   "outputs": [
    {
     "data": {
      "text/plain": [
       "'he ling bo'"
      ]
     },
     "execution_count": 17,
     "metadata": {},
     "output_type": "execute_result"
    }
   ],
   "source": [
    "'{} {} {}'.format('he','ling','bo')"
   ]
  },
  {
   "cell_type": "code",
   "execution_count": 20,
   "id": "885a25e1",
   "metadata": {},
   "outputs": [
    {
     "data": {
      "text/plain": [
       "'bo ling he'"
      ]
     },
     "execution_count": 20,
     "metadata": {},
     "output_type": "execute_result"
    }
   ],
   "source": [
    "'{2} {1} {0}'.format('he','ling','bo')"
   ]
  },
  {
   "cell_type": "code",
   "execution_count": 21,
   "id": "090c4a4f",
   "metadata": {},
   "outputs": [
    {
     "data": {
      "text/plain": [
       "'5 2 0'"
      ]
     },
     "execution_count": 21,
     "metadata": {},
     "output_type": "execute_result"
    }
   ],
   "source": [
    "'{he} {ling} {bo}'.format(he=5,ling=2,bo=0)"
   ]
  },
  {
   "cell_type": "markdown",
   "id": "5ed0a4a0",
   "metadata": {},
   "source": [
    "## 切片[] "
   ]
  },
  {
   "cell_type": "code",
   "execution_count": 23,
   "id": "dcb2d485",
   "metadata": {},
   "outputs": [],
   "source": [
    "he=\"he ling bo\""
   ]
  },
  {
   "cell_type": "code",
   "execution_count": 24,
   "id": "87dc53dd",
   "metadata": {
    "scrolled": true
   },
   "outputs": [
    {
     "data": {
      "text/plain": [
       "'i'"
      ]
     },
     "execution_count": 24,
     "metadata": {},
     "output_type": "execute_result"
    }
   ],
   "source": [
    "he[4]"
   ]
  },
  {
   "cell_type": "code",
   "execution_count": 25,
   "id": "41de86f7",
   "metadata": {},
   "outputs": [
    {
     "data": {
      "text/plain": [
       "'he li'"
      ]
     },
     "execution_count": 25,
     "metadata": {},
     "output_type": "execute_result"
    }
   ],
   "source": [
    "he[0:5]"
   ]
  },
  {
   "cell_type": "code",
   "execution_count": 26,
   "id": "e36bf407",
   "metadata": {},
   "outputs": [
    {
     "data": {
      "text/plain": [
       "'he ling b'"
      ]
     },
     "execution_count": 26,
     "metadata": {},
     "output_type": "execute_result"
    }
   ],
   "source": [
    "he[:-1]"
   ]
  },
  {
   "cell_type": "code",
   "execution_count": 27,
   "id": "c58fc2d4",
   "metadata": {},
   "outputs": [
    {
     "data": {
      "text/plain": [
       "'h igb'"
      ]
     },
     "execution_count": 27,
     "metadata": {},
     "output_type": "execute_result"
    }
   ],
   "source": [
    "he[::2]"
   ]
  },
  {
   "cell_type": "markdown",
   "id": "c57268ea",
   "metadata": {},
   "source": [
    "## list列表 [] "
   ]
  },
  {
   "cell_type": "code",
   "execution_count": 28,
   "id": "180972ea",
   "metadata": {},
   "outputs": [
    {
     "data": {
      "text/plain": [
       "2"
      ]
     },
     "execution_count": 28,
     "metadata": {},
     "output_type": "execute_result"
    }
   ],
   "source": [
    "he=['apple','apple','pear']\n",
    "he.count('apple')"
   ]
  },
  {
   "cell_type": "code",
   "execution_count": 29,
   "id": "52e0c8ab",
   "metadata": {},
   "outputs": [
    {
     "data": {
      "text/plain": [
       "2"
      ]
     },
     "execution_count": 29,
     "metadata": {},
     "output_type": "execute_result"
    }
   ],
   "source": [
    "he.index('pear')"
   ]
  },
  {
   "cell_type": "markdown",
   "id": "e3f7704a",
   "metadata": {},
   "source": [
    "## 字典{} key-value"
   ]
  },
  {
   "cell_type": "code",
   "execution_count": 30,
   "id": "a529c768",
   "metadata": {},
   "outputs": [],
   "source": [
    "he={'he':123,'ling':456,'bo':789 }\n",
    "he1={'he':520,'language':'python'}"
   ]
  },
  {
   "cell_type": "code",
   "execution_count": 31,
   "id": "c65abc4b",
   "metadata": {},
   "outputs": [
    {
     "data": {
      "text/plain": [
       "123"
      ]
     },
     "execution_count": 31,
     "metadata": {},
     "output_type": "execute_result"
    }
   ],
   "source": [
    "he.get('he')"
   ]
  },
  {
   "cell_type": "code",
   "execution_count": 33,
   "id": "efa26125",
   "metadata": {},
   "outputs": [],
   "source": [
    "he.update(he1)"
   ]
  },
  {
   "cell_type": "code",
   "execution_count": 34,
   "id": "fb57974b",
   "metadata": {},
   "outputs": [
    {
     "data": {
      "text/plain": [
       "{'he': 520, 'ling': 456, 'bo': 789, 'language': 'python'}"
      ]
     },
     "execution_count": 34,
     "metadata": {},
     "output_type": "execute_result"
    }
   ],
   "source": [
    "he"
   ]
  },
  {
   "cell_type": "code",
   "execution_count": 35,
   "id": "b36ca48b",
   "metadata": {},
   "outputs": [
    {
     "data": {
      "text/plain": [
       "dict_items([('he', 520), ('ling', 456), ('bo', 789), ('language', 'python')])"
      ]
     },
     "execution_count": 35,
     "metadata": {},
     "output_type": "execute_result"
    }
   ],
   "source": [
    "he.items()"
   ]
  },
  {
   "cell_type": "markdown",
   "id": "bced0ea5",
   "metadata": {},
   "source": [
    "## 集合\n",
    "会保留下来唯一的元素"
   ]
  },
  {
   "cell_type": "code",
   "execution_count": 36,
   "id": "704b4f64",
   "metadata": {},
   "outputs": [
    {
     "data": {
      "text/plain": [
       "{123, 456, 789}"
      ]
     },
     "execution_count": 36,
     "metadata": {},
     "output_type": "execute_result"
    }
   ],
   "source": [
    "he=[123,123,456,789]\n",
    "he=set(he)\n",
    "he"
   ]
  },
  {
   "cell_type": "markdown",
   "id": "8374494a",
   "metadata": {},
   "source": [
    "### 集合的操作"
   ]
  },
  {
   "cell_type": "code",
   "execution_count": 37,
   "id": "1cb19cd7",
   "metadata": {},
   "outputs": [],
   "source": [
    "a={1,2,3,4,5}\n",
    "b={1,2,3,4}"
   ]
  },
  {
   "cell_type": "code",
   "execution_count": 38,
   "id": "2e59ce67",
   "metadata": {},
   "outputs": [
    {
     "data": {
      "text/plain": [
       "{1, 2, 3, 4, 5}"
      ]
     },
     "execution_count": 38,
     "metadata": {},
     "output_type": "execute_result"
    }
   ],
   "source": [
    "a.union(b)"
   ]
  },
  {
   "cell_type": "code",
   "execution_count": 39,
   "id": "0e87aa16",
   "metadata": {},
   "outputs": [
    {
     "data": {
      "text/plain": [
       "{1, 2, 3, 4, 5}"
      ]
     },
     "execution_count": 39,
     "metadata": {},
     "output_type": "execute_result"
    }
   ],
   "source": [
    "a|b"
   ]
  },
  {
   "cell_type": "code",
   "execution_count": 40,
   "id": "5a0bcd71",
   "metadata": {},
   "outputs": [
    {
     "data": {
      "text/plain": [
       "{1, 2, 3, 4}"
      ]
     },
     "execution_count": 40,
     "metadata": {},
     "output_type": "execute_result"
    }
   ],
   "source": [
    "a.intersection(b)"
   ]
  },
  {
   "cell_type": "code",
   "execution_count": 41,
   "id": "15524dcb",
   "metadata": {},
   "outputs": [
    {
     "data": {
      "text/plain": [
       "{1, 2, 3, 4}"
      ]
     },
     "execution_count": 41,
     "metadata": {},
     "output_type": "execute_result"
    }
   ],
   "source": [
    "a&b"
   ]
  },
  {
   "cell_type": "code",
   "execution_count": 42,
   "id": "6634b30f",
   "metadata": {},
   "outputs": [
    {
     "data": {
      "text/plain": [
       "{5}"
      ]
     },
     "execution_count": 42,
     "metadata": {},
     "output_type": "execute_result"
    }
   ],
   "source": [
    "a-b"
   ]
  },
  {
   "cell_type": "code",
   "execution_count": 43,
   "id": "4d2b06d0",
   "metadata": {},
   "outputs": [
    {
     "data": {
      "text/plain": [
       "set()"
      ]
     },
     "execution_count": 43,
     "metadata": {},
     "output_type": "execute_result"
    }
   ],
   "source": [
    "b-a"
   ]
  },
  {
   "cell_type": "markdown",
   "id": "3bb9f77a",
   "metadata": {},
   "source": [
    "## 判断结构 if"
   ]
  },
  {
   "cell_type": "markdown",
   "id": "1d2f4eb1",
   "metadata": {},
   "source": [
    "## 循环结构 for while"
   ]
  },
  {
   "cell_type": "markdown",
   "id": "5fdc9347",
   "metadata": {},
   "source": [
    "## 函数 "
   ]
  },
  {
   "cell_type": "code",
   "execution_count": 50,
   "id": "6f4efd20",
   "metadata": {
    "scrolled": true
   },
   "outputs": [
    {
     "data": {
      "text/plain": [
       "6"
      ]
     },
     "execution_count": 50,
     "metadata": {},
     "output_type": "execute_result"
    }
   ],
   "source": [
    "def add_number(a,*args):\n",
    "    for i in args:\n",
    "        a+=i\n",
    "    return a\n",
    "add_number(1,2,3)"
   ]
  },
  {
   "cell_type": "code",
   "execution_count": 51,
   "id": "d82c4a1f",
   "metadata": {},
   "outputs": [
    {
     "name": "stdout",
     "output_type": "stream",
     "text": [
      "x 2\n",
      "y 3\n"
     ]
    }
   ],
   "source": [
    "def add_number2(a,**kwargs):\n",
    "    for arg,value in kwargs.items():\n",
    "        print(arg,value)\n",
    "add_number2(1,x=2,y=3)"
   ]
  }
 ],
 "metadata": {
  "kernelspec": {
   "display_name": "Python 3",
   "language": "python",
   "name": "python3"
  },
  "language_info": {
   "codemirror_mode": {
    "name": "ipython",
    "version": 3
   },
   "file_extension": ".py",
   "mimetype": "text/x-python",
   "name": "python",
   "nbconvert_exporter": "python",
   "pygments_lexer": "ipython3",
   "version": "3.8.8"
  }
 },
 "nbformat": 4,
 "nbformat_minor": 5
}
