{
 "cells": [
  {
   "cell_type": "markdown",
   "id": "f6d7b8e1",
   "metadata": {},
   "source": [
    "# Python 练习题 "
   ]
  },
  {
   "cell_type": "code",
   "execution_count": 5,
   "id": "0bbc17a9",
   "metadata": {},
   "outputs": [
    {
     "name": "stdout",
     "output_type": "stream",
     "text": [
      "123\n",
      "124\n",
      "132\n",
      "134\n",
      "142\n",
      "143\n",
      "213\n",
      "214\n",
      "231\n",
      "234\n",
      "241\n",
      "243\n",
      "312\n",
      "314\n",
      "321\n",
      "324\n",
      "341\n",
      "342\n",
      "412\n",
      "413\n",
      "421\n",
      "423\n",
      "431\n",
      "432\n"
     ]
    }
   ],
   "source": [
    "for a in range(1,5):\n",
    "    for b in range(1,5):\n",
    "        for c in range(1,5):\n",
    "            if (a!=b)and(a!=c)and(b!=c):\n",
    "                print(a*100+b*10+c)"
   ]
  },
  {
   "cell_type": "code",
   "execution_count": 13,
   "id": "ebda2644",
   "metadata": {},
   "outputs": [
    {
     "name": "stdout",
     "output_type": "stream",
     "text": [
      "请输入当月利润(万元)：120\n",
      "奖金为： 4.15 万元\n"
     ]
    }
   ],
   "source": [
    "input_profit=float(input(\"请输入当月利润(万元)：\"))\n",
    "bonus=0\n",
    "if input_profit<0:\n",
    "    print(\"利润为负无奖金\")\n",
    "elif input_profit<=10:\n",
    "    bonus=input_profit*0.1\n",
    "elif input_profit<20:\n",
    "    bonus=(input_profit-10)*0.075+10*0.1\n",
    "elif input_profit<40:\n",
    "    bonus=(input_profit-20)*0.05+10*0.075+10*0.1\n",
    "elif input_profit<60:\n",
    "    bonus=(input_profit-40)*0.03+20*0.05+10*0.075+10*0.1\n",
    "elif input_profit<100:\n",
    "    bonus=(input_profit-60)*0.015+20*0.03+20*0.05+10*0.075+10*0.1\n",
    "else:\n",
    "     bonus=(input_profit-100)*0.01+40*0.015+20*0.03+20*0.05+10*0.075+10*0.1\n",
    "print(\"奖金为：\",bonus,\"万元\")"
   ]
  },
  {
   "cell_type": "code",
   "execution_count": 14,
   "id": "6aa6942c",
   "metadata": {},
   "outputs": [
    {
     "name": "stdout",
     "output_type": "stream",
     "text": [
      "请输入当月利润(万元):2\n",
      "0.2\n"
     ]
    }
   ],
   "source": [
    "i= float(input(\"请输入当月利润(万元):\"))\n",
    "arr=[100,60,40,20,10,0]\n",
    "rat=[0.01,0.015,0.03,0.05,0.075,0.1]\n",
    "result=0\n",
    "for idx in range(0,6):\n",
    "    if i>arr[idx]:\n",
    "        result+=(i-arr[idx])*rat[idx]\n",
    "        i=arr[idx]\n",
    "print(result)"
   ]
  },
  {
   "cell_type": "code",
   "execution_count": 1,
   "id": "62211473",
   "metadata": {},
   "outputs": [
    {
     "name": "stdout",
     "output_type": "stream",
     "text": [
      "请输入数：12\n",
      "请输入数：569\n",
      "请输入数：4565\n",
      "12\n",
      "569\n",
      "4565\n"
     ]
    }
   ],
   "source": [
    "num_list=[]\n",
    "for i in range(0,3):\n",
    "    x=int(input(\"请输入数：\"))\n",
    "    num_list.append(x)\n",
    "num_list.sort()\n",
    "for j in range(0,3):\n",
    "    y=num_list[j]\n",
    "    print(y)"
   ]
  },
  {
   "cell_type": "code",
   "execution_count": 2,
   "id": "73385fbe",
   "metadata": {},
   "outputs": [
    {
     "data": {
      "text/plain": [
       "[12, 569, 4565]"
      ]
     },
     "execution_count": 2,
     "metadata": {},
     "output_type": "execute_result"
    }
   ],
   "source": [
    "new_list=[]\n",
    "new_list=num_list[:]\n",
    "new_list"
   ]
  },
  {
   "cell_type": "code",
   "execution_count": 3,
   "id": "4384d544",
   "metadata": {},
   "outputs": [
    {
     "name": "stdout",
     "output_type": "stream",
     "text": [
      "21-08-13 03:35:01\n",
      "21-08-13 03:35:02\n",
      "21-08-13 03:35:04\n"
     ]
    }
   ],
   "source": [
    "import time\n",
    "print(time.strftime('%y-%m-%d %H:%M:%S',time.localtime(time.time())))\n",
    "time.sleep(1)\n",
    "print(time.strftime('%y-%m-%d %H:%M:%S',time.localtime(time.time())))\n",
    "time.sleep(2)\n",
    "print(time.strftime('%y-%m-%d %H:%M:%S',time.localtime(time.time())))\n"
   ]
  },
  {
   "cell_type": "code",
   "execution_count": 13,
   "id": "be1e923e",
   "metadata": {
    "scrolled": true
   },
   "outputs": [
    {
     "name": "stdout",
     "output_type": "stream",
     "text": [
      "153\n",
      "370\n",
      "371\n",
      "407\n"
     ]
    }
   ],
   "source": [
    "for a in range(1,10):\n",
    "    for b in range(0,10):\n",
    "        for c in range(0,10):\n",
    "            sum1=a**3+b**3+c**3\n",
    "            sum2=a*100+b*10+c\n",
    "            if sum1==sum2:\n",
    "                print(sum2)"
   ]
  },
  {
   "cell_type": "code",
   "execution_count": 15,
   "id": "39bf5b7f",
   "metadata": {},
   "outputs": [
    {
     "name": "stdout",
     "output_type": "stream",
     "text": [
      "请输入字符：hdfhiduhfhiu    )(*&&%bhjdbjhfhjd\n",
      "letters=23,space=4,num=0,others=6\n"
     ]
    }
   ],
   "source": [
    "s=input('请输入字符：')\n",
    "letters=0\n",
    "space=0\n",
    "num=0\n",
    "others=0\n",
    "for c in s:\n",
    "    if c.isalpha():\n",
    "        letters+=1\n",
    "    elif c.isspace():\n",
    "        space+=1\n",
    "    elif c.isdigit():\n",
    "        num+=1\n",
    "    else:\n",
    "        others+=1\n",
    "print('letters=%d,space=%d,num=%d,others=%d'%(letters,space,num,others))"
   ]
  },
  {
   "cell_type": "code",
   "execution_count": 15,
   "id": "4dce7f3d",
   "metadata": {},
   "outputs": [
    {
     "name": "stdout",
     "output_type": "stream",
     "text": [
      "第几次落地：10\n",
      "299.609375\n"
     ]
    }
   ],
   "source": [
    "height=100\n",
    "count=int(input(\"第几次落地：\"))\n",
    "sum=0\n",
    "for i in range(0,count):\n",
    "    if i==0:\n",
    "        sum=100\n",
    "    else:\n",
    "       sum+=(100/(2**i))*2\n",
    "print(sum)"
   ]
  },
  {
   "cell_type": "code",
   "execution_count": 1,
   "id": "6c861bb8",
   "metadata": {},
   "outputs": [
    {
     "data": {
      "text/plain": [
       "120"
      ]
     },
     "execution_count": 1,
     "metadata": {},
     "output_type": "execute_result"
    }
   ],
   "source": [
    "def factorial(j):\n",
    "    sum_value=0\n",
    "    if j==0:\n",
    "        sum_value=1\n",
    "    else:\n",
    "        sum_value=j*factorial(j-1)\n",
    "    return sum_value\n",
    "factorial(5)"
   ]
  },
  {
   "cell_type": "code",
   "execution_count": 7,
   "id": "15a4669c",
   "metadata": {},
   "outputs": [
    {
     "name": "stdout",
     "output_type": "stream",
     "text": [
      "helingbo\n",
      "o\n",
      "b\n",
      "g\n",
      "n\n",
      "i\n",
      "l\n",
      "e\n",
      "h\n"
     ]
    }
   ],
   "source": [
    "def output(s,l):\n",
    "    if l==0:\n",
    "        return\n",
    "    print(s[l-1])\n",
    "    output(s,l-1)\n",
    "s=input()\n",
    "l=len(s)\n",
    "output(s,l)"
   ]
  },
  {
   "cell_type": "code",
   "execution_count": 2,
   "id": "0f63ade3",
   "metadata": {},
   "outputs": [
    {
     "data": {
      "text/plain": [
       "'he,ling,bo'"
      ]
     },
     "execution_count": 2,
     "metadata": {},
     "output_type": "execute_result"
    }
   ],
   "source": [
    "L=['he','ling','bo']\n",
    "s=','.join(L)\n",
    "s"
   ]
  },
  {
   "cell_type": "code",
   "execution_count": 5,
   "id": "49b1cded",
   "metadata": {},
   "outputs": [
    {
     "name": "stdout",
     "output_type": "stream",
     "text": [
      "[6, 5, 4, 3, 2, 1]\n"
     ]
    }
   ],
   "source": [
    "a=[1,2,3,4,5,6]\n",
    "b=[]\n",
    "l=len(a)\n",
    "for i in range(0,l):\n",
    "    b.append(a[l-1-i])\n",
    "a=b\n",
    "print(a)"
   ]
  },
  {
   "cell_type": "code",
   "execution_count": 6,
   "id": "6f642e0c",
   "metadata": {},
   "outputs": [
    {
     "name": "stdout",
     "output_type": "stream",
     "text": [
      "[[8, 10, 12], [8, 10, 12], [8, 10, 12]]\n"
     ]
    }
   ],
   "source": [
    "a=[[1,2,3],[4,5,6],[7,8,9]]\n",
    "b=[[7,8,9],[4,5,6],[1,2,3]]\n",
    "for i in range(0,3):\n",
    "    for j in range(0,3):\n",
    "        a[i][j]+=b[i][j]\n",
    "print(a)"
   ]
  },
  {
   "cell_type": "code",
   "execution_count": 7,
   "id": "7054e343",
   "metadata": {},
   "outputs": [
    {
     "name": "stdout",
     "output_type": "stream",
     "text": [
      "6\n"
     ]
    }
   ],
   "source": [
    "s1=\"helingbo\"\n",
    "s2=\"bo\"\n",
    "print(s1.find(s2))"
   ]
  },
  {
   "cell_type": "code",
   "execution_count": 9,
   "id": "cf74cf7c",
   "metadata": {},
   "outputs": [
    {
     "name": "stdout",
     "output_type": "stream",
     "text": [
      "mark 40\n"
     ]
    }
   ],
   "source": [
    "people={'jack':25,'mark':40,'job':35}\n",
    "max='jack'\n",
    "for key in people.keys():\n",
    "    if people[key]>people[max]:\n",
    "        max=key\n",
    "print(max,people[max])"
   ]
  },
  {
   "cell_type": "code",
   "execution_count": 12,
   "id": "9f12a467",
   "metadata": {},
   "outputs": [
    {
     "name": "stdout",
     "output_type": "stream",
     "text": [
      "{'tang': 'yudi', 123: 456}\n"
     ]
    }
   ],
   "source": [
    "k=['tang','yudi']\n",
    "v=[123,456]\n",
    "print(dict([k,v]))"
   ]
  },
  {
   "cell_type": "code",
   "execution_count": 18,
   "id": "5008ba1a",
   "metadata": {},
   "outputs": [
    {
     "name": "stdout",
     "output_type": "stream",
     "text": [
      "请输入一串字符：hlb\n",
      "HLB\n"
     ]
    }
   ],
   "source": [
    "s=input(\"请输入一串字符：\")\n",
    "with open('test.txt','w') as f:\n",
    "    f.write(s.upper())\n",
    "    f.close()\n",
    "with open('test.txt','r') as f:\n",
    "    print(f.read())\n",
    "    f.close()"
   ]
  }
 ],
 "metadata": {
  "kernelspec": {
   "display_name": "Python 3",
   "language": "python",
   "name": "python3"
  },
  "language_info": {
   "codemirror_mode": {
    "name": "ipython",
    "version": 3
   },
   "file_extension": ".py",
   "mimetype": "text/x-python",
   "name": "python",
   "nbconvert_exporter": "python",
   "pygments_lexer": "ipython3",
   "version": "3.8.8"
  }
 },
 "nbformat": 4,
 "nbformat_minor": 5
}
